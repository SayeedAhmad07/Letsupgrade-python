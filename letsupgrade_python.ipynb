{
  "nbformat": 4,
  "nbformat_minor": 0,
  "metadata": {
    "colab": {
      "provenance": []
    },
    "kernelspec": {
      "name": "python3",
      "display_name": "Python 3"
    },
    "language_info": {
      "name": "python"
    }
  },
  "cells": [
    {
      "cell_type": "code",
      "execution_count": 8,
      "metadata": {
        "colab": {
          "base_uri": "https://localhost:8080/"
        },
        "id": "HcbPGcv5EtyT",
        "outputId": "9dc1b302-ed28-44d0-9ffe-6bf955e4e1d4"
      },
      "outputs": [
        {
          "output_type": "stream",
          "name": "stdout",
          "text": [
            "enter a number:46\n",
            "It is a even number\n"
          ]
        }
      ],
      "source": [
        "num = int (input(\"enter a number:\"))\n",
        "if num%2 == 0:\n",
        " print(\"It is a even number\")\n",
        "else:\n",
        " print(\"It is a odd number\")"
      ]
    }
  ]
}